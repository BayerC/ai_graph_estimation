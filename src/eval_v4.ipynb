{
 "cells": [
  {
   "cell_type": "markdown",
   "id": "0",
   "metadata": {},
   "source": [
    "Load learner"
   ]
  },
  {
   "cell_type": "code",
   "execution_count": null,
   "id": "1",
   "metadata": {},
   "outputs": [],
   "source": [
    "from fastai.vision.all import load_learner\n",
    "\n",
    "learner = load_learner(\"export.pkl\")"
   ]
  },
  {
   "cell_type": "code",
   "execution_count": null,
   "id": "2",
   "metadata": {},
   "outputs": [],
   "source": [
    "# Pretty evaluation with image display\n",
    "import matplotlib.pyplot as plt\n",
    "from PIL import Image\n",
    "from pathlib import Path\n",
    "\n",
    "# Test images\n",
    "test_images = [\n",
    "    (\"data/valid/linear/18.png\", \"linear\"),\n",
    "    (\"data/valid/cubic/18.png\", \"cubic\"),\n",
    "    (\"data/valid/quadratic/18.png\", \"quadratic\"),\n",
    "]\n",
    "\n",
    "# Create subplot for all 3 images\n",
    "fig, axes = plt.subplots(1, 3, figsize=(15, 5))\n",
    "fig.suptitle(\"Graph Classification Results\", fontsize=16, fontweight=\"bold\")\n",
    "\n",
    "for i, (img_path, true_label) in enumerate(test_images):\n",
    "    # Make prediction\n",
    "    pred_class, pred_idx, probs = learner.predict(img_path)\n",
    "\n",
    "    # Load and display image\n",
    "    img = Image.open(img_path)\n",
    "    axes[i].imshow(img)\n",
    "    axes[i].axis(\"off\")\n",
    "\n",
    "    # Check if correct\n",
    "    is_correct = str(pred_class) == true_label\n",
    "    confidence = probs.max().item()\n",
    "\n",
    "    # Color title based on correctness\n",
    "    color = \"green\" if is_correct else \"red\"\n",
    "\n",
    "    # Set image title\n",
    "    title = f\"True: {true_label}\\nPred: {pred_class}\\nConf: {confidence:.1%}\"\n",
    "    axes[i].set_title(title, fontsize=12, color=color, fontweight=\"bold\")\n",
    "\n",
    "    # Print detailed results\n",
    "    print(f\"\\n{'=' * 40}\")\n",
    "    print(f\"📸 IMAGE: {Path(img_path).name}\")\n",
    "    print(f\"{'=' * 40}\")\n",
    "    print(f\"True Label:    {true_label}\")\n",
    "    print(f\"Predicted:     {pred_class}\")\n",
    "    print(f\"Confidence:    {confidence:.1%}\")\n",
    "    print(f\"Status:        {'✅ CORRECT' if is_correct else '❌ WRONG'}\")\n",
    "    print(\"\\nProbability Breakdown:\")\n",
    "    print(f\"{'Class':<12} {'Probability':<12} {'Bar'}\")\n",
    "    print(f\"{'-' * 40}\")\n",
    "\n",
    "    for cls, prob in zip(learner.dls.vocab, probs):\n",
    "        prob_val = prob.item()\n",
    "        bar_length = int(prob_val * 30)\n",
    "        bar = \"█\" * bar_length + \"░\" * (30 - bar_length)\n",
    "        print(f\"{cls:<12} {prob_val:>7.1%}       {bar}\")\n",
    "\n",
    "plt.tight_layout()\n",
    "plt.show()"
   ]
  },
  {
   "cell_type": "code",
   "execution_count": null,
   "id": "3",
   "metadata": {},
   "outputs": [],
   "source": []
  }
 ],
 "metadata": {
  "kernelspec": {
   "display_name": ".venv",
   "language": "python",
   "name": "python3"
  },
  "language_info": {
   "codemirror_mode": {
    "name": "ipython",
    "version": 3
   },
   "file_extension": ".py",
   "mimetype": "text/x-python",
   "name": "python",
   "nbconvert_exporter": "python",
   "pygments_lexer": "ipython3",
   "version": "3.11.13"
  }
 },
 "nbformat": 4,
 "nbformat_minor": 5
}
