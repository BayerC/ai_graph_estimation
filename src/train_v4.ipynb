{
 "cells": [
  {
   "cell_type": "markdown",
   "id": "0",
   "metadata": {},
   "source": [
    "Changes to v4:\n",
    "- store model for inference\n",
    "\n",
    "Potential next steps:\n",
    "- dots sample frequency\n",
    "- a lot of images are ambiguous, trainings data needs to be cleaned: fit lower level function and check if residual is low -> remap to lower function\n",
    "- which dot type is the best?\n",
    "- deployment"
   ]
  },
  {
   "cell_type": "code",
   "execution_count": null,
   "id": "1",
   "metadata": {},
   "outputs": [],
   "source": [
    "import matplotlib.pyplot as plt\n",
    "import numpy as np\n",
    "import os\n",
    "import random\n",
    "import math\n",
    "\n",
    "NUM_IMAGES = 1000\n",
    "\n",
    "# Create data directory if it doesn't exist\n",
    "\n",
    "x_max = 100\n",
    "x = np.linspace(-x_max, x_max, 100)\n",
    "\n",
    "\n",
    "def get_random_linear(x):\n",
    "    a = math.tan(random.uniform(math.radians(-89.0), math.radians(89.0)))\n",
    "    b = random.uniform(-x_max, x_max)\n",
    "    x_shift = random.uniform(-x_max, x_max)\n",
    "\n",
    "    print(\"a:\", a, \"b:\", b)\n",
    "\n",
    "    return a * (x + x_shift) + b\n",
    "\n",
    "\n",
    "def get_random_quadratic(x):\n",
    "    log_a_min = np.log(0.001)  # minimum curvature\n",
    "    log_a_max = np.log(10.0)  # maximum curvature\n",
    "    log_a = random.uniform(log_a_min, log_a_max)\n",
    "    a = np.exp(log_a) * random.choice([-1, 1])  # random sign\n",
    "    b = math.tan(random.uniform(math.radians(-89.0), math.radians(89.0)))\n",
    "    c = random.uniform(-x_max, x_max)\n",
    "    x_shift = random.uniform(-x_max, x_max)\n",
    "\n",
    "    x_shifted = x + x_shift\n",
    "\n",
    "    return a * x_shifted**2 + b * x_shifted + c\n",
    "\n",
    "\n",
    "def get_random_cubic(x):\n",
    "    log_a_min = np.log(0.000001)  # minimum curvature derivative\n",
    "    log_a_max = np.log(0.1)  # maximum curvature derivative\n",
    "    log_a = random.uniform(log_a_min, log_a_max)\n",
    "    a = np.exp(log_a) * random.choice([-1, 1])  # random sign\n",
    "    b = random.uniform(0.001, 0.1) * random.choice([-1, 1])\n",
    "    c = math.tan(random.uniform(math.radians(-89.0), math.radians(89.0)))\n",
    "    d = random.uniform(-x_max, x_max)\n",
    "    x_shift = random.uniform(-x_max, x_max)\n",
    "\n",
    "    x_shifted = x + x_shift\n",
    "\n",
    "    return a * x_shifted**3 + b * x_shifted**2 + c * x_shifted + d\n",
    "\n",
    "\n",
    "def save_plot(x, y, i, label):\n",
    "    # Create figure with square aspect ratio\n",
    "    fig, ax = plt.subplots(figsize=(10, 10))\n",
    "    ax.plot(x, y, \"x\", linewidth=4)\n",
    "    ax.set_xlim([-x_max, x_max])\n",
    "    ax.set_ylim([-x_max, x_max])\n",
    "\n",
    "    ax.set_xticks([])\n",
    "    ax.set_yticks([])\n",
    "\n",
    "    folder_name = f\"data/{label}\"\n",
    "\n",
    "    os.makedirs(folder_name, exist_ok=True)\n",
    "\n",
    "    file_name = f\"{folder_name}/{i}.png\"\n",
    "    plt.savefig(file_name, dpi=50)\n",
    "\n",
    "    print(\"label:\", label)\n",
    "    plt.close()  # Close the figure to prevent it from being displayed\n",
    "    print(f\"Plot saved to {file_name}\")\n",
    "\n",
    "\n",
    "for i in range(NUM_IMAGES):\n",
    "    y_linear = get_random_linear(x)\n",
    "    save_plot(x, y_linear, i, \"linear\")\n",
    "\n",
    "    y_quadratic = get_random_quadratic(x)\n",
    "    save_plot(x, y_quadratic, i, \"quadratic\")\n",
    "\n",
    "    y_cubic = get_random_cubic(x)\n",
    "    save_plot(x, y_cubic, i, \"cubic\")"
   ]
  },
  {
   "cell_type": "markdown",
   "id": "2",
   "metadata": {},
   "source": [
    "Load data into fast ai `DataBlock`"
   ]
  },
  {
   "cell_type": "code",
   "execution_count": null,
   "id": "3",
   "metadata": {},
   "outputs": [],
   "source": [
    "from fastai.vision.all import (\n",
    "    DataBlock,\n",
    "    ImageBlock,\n",
    "    CategoryBlock,\n",
    "    get_image_files,\n",
    "    RandomSplitter,\n",
    "    parent_label,\n",
    ")\n",
    "from pathlib import Path\n",
    "\n",
    "\n",
    "path = Path(\"data\")\n",
    "\n",
    "dls = DataBlock(\n",
    "    blocks=(ImageBlock, CategoryBlock),\n",
    "    get_items=get_image_files,\n",
    "    splitter=RandomSplitter(valid_pct=0.2, seed=42),\n",
    "    get_y=parent_label,\n",
    ").dataloaders(path, bs=32)\n",
    "\n",
    "dls.show_batch(max_n=20)"
   ]
  },
  {
   "cell_type": "markdown",
   "id": "4",
   "metadata": {},
   "source": [
    "Train the model"
   ]
  },
  {
   "cell_type": "code",
   "execution_count": null,
   "id": "5",
   "metadata": {},
   "outputs": [],
   "source": [
    "from fastai.vision.all import (\n",
    "    vision_learner,\n",
    "    resnet18,\n",
    "    error_rate,\n",
    ")\n",
    "\n",
    "\n",
    "learn = vision_learner(dls, resnet18, metrics=error_rate)\n",
    "learn.fine_tune(10)"
   ]
  },
  {
   "cell_type": "markdown",
   "id": "6",
   "metadata": {},
   "source": [
    "Show confusion matrix"
   ]
  },
  {
   "cell_type": "code",
   "execution_count": null,
   "id": "7",
   "metadata": {},
   "outputs": [],
   "source": [
    "from fastai.vision.all import ClassificationInterpretation\n",
    "\n",
    "interp = ClassificationInterpretation.from_learner(learn)\n",
    "interp.plot_confusion_matrix(figsize=(12, 12), dpi=60)"
   ]
  },
  {
   "cell_type": "code",
   "execution_count": null,
   "id": "8",
   "metadata": {},
   "outputs": [],
   "source": [
    "learn.save(\"model_v4\")"
   ]
  },
  {
   "cell_type": "code",
   "execution_count": null,
   "id": "9",
   "metadata": {},
   "outputs": [],
   "source": [
    "# Load the saved model and verify performance\n",
    "\n",
    "# Get performance of original learner for comparison\n",
    "print(\"Original learner performance:\")\n",
    "original_results = learn.validate()\n",
    "print(f\"Original validation loss: {original_results[0]:.4f}\")\n",
    "print(f\"Original error rate: {original_results[1]:.4f}\")\n",
    "\n",
    "# Create a new learner with same architecture and load the saved weights (safer than pickle)\n",
    "loaded_learn = vision_learner(dls, resnet18, metrics=error_rate)\n",
    "loaded_learn.load(\"model_v4\")\n",
    "\n",
    "# Evaluate performance of loaded model\n",
    "print(\"\\nLoaded model performance:\")\n",
    "loaded_results = loaded_learn.validate()\n",
    "print(f\"Loaded validation loss: {loaded_results[0]:.4f}\")\n",
    "print(f\"Loaded error rate: {loaded_results[1]:.4f}\")\n",
    "\n",
    "# Check if performances match\n",
    "loss_diff = abs(original_results[0] - loaded_results[0])\n",
    "error_diff = abs(original_results[1] - loaded_results[1])\n",
    "\n",
    "print(\"\\nPerformance comparison:\")\n",
    "print(f\"Loss difference: {loss_diff:.6f}\")\n",
    "print(f\"Error rate difference: {error_diff:.6f}\")\n",
    "\n",
    "if loss_diff < 1e-6 and error_diff < 1e-6:\n",
    "    print(\"✅ Model saved and loaded successfully - performances match!\")\n",
    "else:\n",
    "    print(\"⚠️ Performance mismatch detected\")"
   ]
  },
  {
   "cell_type": "code",
   "execution_count": null,
   "id": "10",
   "metadata": {},
   "outputs": [],
   "source": []
  }
 ],
 "metadata": {
  "kernelspec": {
   "display_name": ".venv",
   "language": "python",
   "name": "python3"
  },
  "language_info": {
   "codemirror_mode": {
    "name": "ipython",
    "version": 3
   },
   "file_extension": ".py",
   "mimetype": "text/x-python",
   "name": "python",
   "nbconvert_exporter": "python",
   "pygments_lexer": "ipython3",
   "version": "3.11.13"
  }
 },
 "nbformat": 4,
 "nbformat_minor": 5
}
